{
 "cells": [
  {
   "cell_type": "code",
   "execution_count": 1,
   "metadata": {},
   "outputs": [],
   "source": [
    "from splinter import Browser\n",
    "from bs4 import BeautifulSoup as bs\n",
    "import time\n",
    "from pprint import pprint\n",
    "import pandas as pd"
   ]
  },
  {
   "cell_type": "code",
   "execution_count": 2,
   "metadata": {},
   "outputs": [],
   "source": [
    "url = \"https://mars.nasa.gov/news/?page=0&per_page=40&order=publish_date+desc%2Ccreated_at+desc&search=&category=19%2C165%2C184%2C204&blank_scope=Latest\"\n",
    "executable_path = {\"executable_path\": \"/usr/local/bin/chromedriver\"}\n",
    "browser= Browser(\"chrome\", **executable_path, headless=False)\n",
    "\n"
   ]
  },
  {
   "cell_type": "code",
   "execution_count": 3,
   "metadata": {},
   "outputs": [
    {
     "name": "stdout",
     "output_type": "stream",
     "text": [
      "During this next phase, the program will mature critical technologies and make critical design decisions as well as assess industry partnerships.\n",
      "NASA Moves Forward With Campaign to Return Mars Samples to Earth\n"
     ]
    }
   ],
   "source": [
    "#browser = init_browser()\n",
    "browser.visit(url)\n",
    "time.sleep(1)\n",
    "html = browser.html\n",
    "soup = bs(html, 'html.parser')\n",
    "content = soup.find_all('div', class_='content_title')\n",
    "news_title=content[1].text\n",
    "content1=soup.find_all('div',class_='article_teaser_body')\n",
    "paragraph=content1[0].text\n",
    "print(paragraph)\n",
    "print(news_title)\n",
    "\n",
    "\n",
    "    \n",
    "\n",
    "\n",
    "\n"
   ]
  },
  {
   "cell_type": "code",
   "execution_count": 27,
   "metadata": {},
   "outputs": [],
   "source": [
    "#image\n",
    "executable_path = {\"executable_path\": \"/usr/local/bin/chromedriver\"}\n",
    "browser= Browser(\"chrome\", **executable_path, headless=False)\n",
    "\n",
    "url1 = \"https://www.jpl.nasa.gov/spaceimages/?search=&category=Mars#submit\"\n",
    "browser.visit(url1)\n"
   ]
  },
  {
   "cell_type": "code",
   "execution_count": 28,
   "metadata": {},
   "outputs": [
    {
     "data": {
      "text/plain": [
       "'https://www.jpl.nasa.gov/spaceimages/images/largesize/PIA19639_hires.jpg'"
      ]
     },
     "execution_count": 28,
     "metadata": {},
     "output_type": "execute_result"
    }
   ],
   "source": [
    "# browser = init_browser()\n",
    "full_image=browser.find_by_id(\"full_image\")\n",
    "full_image.click()\n",
    "\n",
    "browser.is_element_present_by_text(\"more info\", wait_time=3)\n",
    "more_info=browser.find_link_by_partial_text(\"more info\")\n",
    "more_info.click()\n",
    "\n",
    "html = browser.html\n",
    "image_soup = bs(html, 'html.parser')\n",
    "img=image_soup.find(\"figure\", class_=\"lede\")\n",
    "\n",
    "featured_image_url= 'https://www.jpl.nasa.gov' +(img.find('a').get('href'))\n",
    "featured_image_url"
   ]
  },
  {
   "cell_type": "code",
   "execution_count": null,
   "metadata": {},
   "outputs": [],
   "source": [
    "#mars facts\n",
    "url2 = \"https://space-facts.com/mars/\"\n",
    "executable_path = {\"executable_path\": \"/usr/local/bin/chromedriver\"}\n",
    "browser= Browser(\"chrome\", **executable_path, headless=False)\n",
    "# browser = init_browser()\n",
    "browser.visit(url2)\n",
    "time.sleep(1)\n",
    "html = browser.html\n",
    "soup = bs(html, 'html.parser')\n",
    "\n",
    "mars_df = pd.read_html(\"https://space-facts.com/mars/\")[0]\n",
    "mars_df.columns=['Description','Value']\n",
    "mars_df\n",
    "\n"
   ]
  },
  {
   "cell_type": "code",
   "execution_count": null,
   "metadata": {},
   "outputs": [],
   "source": [
    "mars_html= mars_df.to_html(classes = 'table table-striped')\n",
    "print(mars_html)"
   ]
  },
  {
   "cell_type": "code",
   "execution_count": null,
   "metadata": {},
   "outputs": [],
   "source": [
    "#splinter  Mars Hemisphere\n",
    "\n",
    "url=\"https://astrogeology.usgs.gov/search/results?q=hemisphere+enhanced&k1=target&v1=Mars\"\n",
    "browser.visit(url)\n"
   ]
  },
  {
   "cell_type": "code",
   "execution_count": null,
   "metadata": {},
   "outputs": [],
   "source": [
    "\n",
    "html=browser.html\n",
    "soup=bs(html, 'html.parser')\n",
    "    \n",
    "desc= soup.find_all(\"div\",class_=\"item\")\n",
    "main_url=\"https://astrogeology.usgs.gov\"\n",
    "#print(desc)\n",
    "title=[]\n",
    "image_url=[]\n",
    "post={}\n",
    "\n",
    "for  i in desc:\n",
    "    title=(i.find('h3').text)\n",
    "    partial_link=i.find('a',class_=\"itemLink product-item\")['href']\n",
    "    browser.visit(main_url + partial_link)\n",
    "\n",
    "    partial_img_html=browser.html\n",
    "    soup1=bs(partial_img_html,\"html.parser\")\n",
    "    \n",
    "    img= main_url+ soup1.find('img',class_='wide-image')['src']\n",
    "#     image_url.append(img)\n",
    "    \n",
    "    post= [{\"title\": title, \"img_url\": img}]\n",
    "\n",
    "    print(post)\n",
    "    "
   ]
  },
  {
   "cell_type": "code",
   "execution_count": null,
   "metadata": {},
   "outputs": [],
   "source": []
  },
  {
   "cell_type": "code",
   "execution_count": null,
   "metadata": {},
   "outputs": [],
   "source": []
  }
 ],
 "metadata": {
  "kernelspec": {
   "display_name": "Python 3",
   "language": "python",
   "name": "python3"
  },
  "language_info": {
   "codemirror_mode": {
    "name": "ipython",
    "version": 3
   },
   "file_extension": ".py",
   "mimetype": "text/x-python",
   "name": "python",
   "nbconvert_exporter": "python",
   "pygments_lexer": "ipython3",
   "version": "3.7.4"
  }
 },
 "nbformat": 4,
 "nbformat_minor": 2
}
